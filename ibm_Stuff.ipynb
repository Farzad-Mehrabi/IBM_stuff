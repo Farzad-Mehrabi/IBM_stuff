{
 "cells": [
  {
   "cell_type": "markdown",
   "metadata": {},
   "source": [
    "## My NoteBook\n",
    "##### a basic notebook to pass the assignments"
   ]
  },
  {
   "cell_type": "markdown",
   "metadata": {},
   "source": [
    "### Intro\n",
    "\n",
    "Here we go,\n",
    " in this section we gonna do __SOMTHING__"
   ]
  },
  {
   "cell_type": "markdown",
   "metadata": {},
   "source": [
    "### list of languages\n",
    "1. matlab\n",
    "2. python\n",
    "3. r\n",
    "4. scala\n",
    "5. julia\n",
    "6. sql"
   ]
  },
  {
   "cell_type": "markdown",
   "metadata": {},
   "source": [
    "### Some Libraries\n",
    "\n",
    "NumPy,\n",
    "Pandas,\n",
    "Matplotlib,\n",
    "scikit-learn,\n",
    "TensorFlow,\n",
    "Keras,\n",
    "PyTorch,\n",
    "SciPy,\n",
    "Statsmodels,\n",
    "Seaborn"
   ]
  },
  {
   "cell_type": "markdown",
   "metadata": {},
   "source": [
    "|Tools|\n",
    "|-------|\n",
    "|R studio|\n",
    "|Anaconda|\n",
    "|Mamba|\n",
    "|Watson|\n"
   ]
  },
  {
   "cell_type": "markdown",
   "metadata": {},
   "source": [
    "if you want to add two number in python and print it, use chat_gpt or do the following:\n",
    "1 + 1\n",
    "which will return 2"
   ]
  },
  {
   "cell_type": "code",
   "execution_count": 7,
   "metadata": {},
   "outputs": [
    {
     "name": "stdout",
     "output_type": "stream",
     "text": [
      "4 4\n"
     ]
    }
   ],
   "source": [
    "z = 2 + 2 \n",
    "m = 2 * 2\n",
    "print(z, m)"
   ]
  },
  {
   "cell_type": "code",
   "execution_count": 8,
   "metadata": {},
   "outputs": [
    {
     "name": "stdout",
     "output_type": "stream",
     "text": [
      "its 2 hours and 50 mins.\n"
     ]
    }
   ],
   "source": [
    "def min_to_hours(minutez):\n",
    "    hour = minutez // 60\n",
    "    new_minute = minutez - (hour * 60)\n",
    "    print(f\"its {hour} hours and {new_minute} mins.\")\n",
    "\n",
    "min_to_hours(170)"
   ]
  },
  {
   "cell_type": "markdown",
   "metadata": {},
   "source": [
    "# Objectives\n",
    "1. finnish this task\n",
    "2. do it faster"
   ]
  },
  {
   "cell_type": "markdown",
   "metadata": {},
   "source": [
    "My name is Giovanni Giorgio, but everybody calls me Giorgio"
   ]
  },
  {
   "cell_type": "markdown",
   "metadata": {},
   "source": []
  },
  {
   "cell_type": "markdown",
   "metadata": {},
   "source": []
  }
 ],
 "metadata": {
  "kernelspec": {
   "display_name": "IBM",
   "language": "python",
   "name": "python3"
  },
  "language_info": {
   "codemirror_mode": {
    "name": "ipython",
    "version": 3
   },
   "file_extension": ".py",
   "mimetype": "text/x-python",
   "name": "python",
   "nbconvert_exporter": "python",
   "pygments_lexer": "ipython3",
   "version": "3.11.3"
  },
  "orig_nbformat": 4
 },
 "nbformat": 4,
 "nbformat_minor": 2
}
